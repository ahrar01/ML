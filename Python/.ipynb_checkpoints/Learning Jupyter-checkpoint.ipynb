{
 "cells": [
  {
   "cell_type": "markdown",
   "metadata": {},
   "source": [
    "# LEARNING"
   ]
  },
  {
   "cell_type": "code",
   "execution_count": 1,
   "metadata": {},
   "outputs": [
    {
     "name": "stdout",
     "output_type": "stream",
     "text": [
      "Welcome to the Machine Learning\n"
     ]
    }
   ],
   "source": [
    "print(\"Welcome to the Machine Learning\")"
   ]
  },
  {
   "cell_type": "markdown",
   "metadata": {},
   "source": [
    "# Elif"
   ]
  },
  {
   "cell_type": "code",
   "execution_count": 6,
   "metadata": {},
   "outputs": [
    {
     "name": "stdout",
     "output_type": "stream",
     "text": [
      "Enter the Number-5\n",
      "Number Is Negative\n"
     ]
    }
   ],
   "source": [
    "num = int(input(\"Enter the Number\"))\n",
    "if num > 0:\n",
    "    print(\"postive\")\n",
    "elif num == 0 :\n",
    "    print(\"Number is Zero\")\n",
    "else:\n",
    "    print(\"Number Is Negative\")"
   ]
  },
  {
   "cell_type": "code",
   "execution_count": 4,
   "metadata": {},
   "outputs": [
    {
     "name": "stdout",
     "output_type": "stream",
     "text": [
      "['False', 'None', 'True', 'and', 'as', 'assert', 'async', 'await', 'break', 'class', 'continue', 'def', 'del', 'elif', 'else', 'except', 'finally', 'for', 'from', 'global', 'if', 'import', 'in', 'is', 'lambda', 'nonlocal', 'not', 'or', 'pass', 'raise', 'return', 'try', 'while', 'with', 'yield']\n",
      "Total numbers of keywords 35\n"
     ]
    }
   ],
   "source": [
    "#Get All Keywords\n",
    "import keyword\n",
    "print(keyword.kwlist)\n",
    "print(\"Total numbers of keywords\",len(keyword.kwlist))"
   ]
  },
  {
   "cell_type": "code",
   "execution_count": 8,
   "metadata": {},
   "outputs": [
    {
     "name": "stdout",
     "output_type": "stream",
     "text": [
      "Enter number value One : 15\n",
      "Enter number value Two : 26\n",
      "Enter number value three :5\n",
      "Smallest element among three numbers is : 5\n"
     ]
    }
   ],
   "source": [
    "#Find the smallest number out of 3 values\n",
    "n1 = int(input(\"Enter number value One : \"))\n",
    "n2 = int(input(\"Enter number value Two : \"))\n",
    "n3 = int(input(\"Enter number value three :\"))\n",
    "\n",
    "if n1<=n2 and n1<=n3:\n",
    "    smallest = n1\n",
    "elif n2<=n1 and n2<=n3:\n",
    "    smallest = n2\n",
    "else :\n",
    "    smallest = n3\n",
    "print(\"Smallest element among three numbers is : {}\".format(smallest))"
   ]
  },
  {
   "cell_type": "markdown",
   "metadata": {},
   "source": [
    "# for loop"
   ]
  },
  {
   "cell_type": "code",
   "execution_count": 1,
   "metadata": {},
   "outputs": [],
   "source": [
    "subjects = [\"Machine Learning\",\"Artificial Intelligence\",\"Python\",\"Data Scientist\"]"
   ]
  },
  {
   "cell_type": "code",
   "execution_count": 2,
   "metadata": {},
   "outputs": [
    {
     "name": "stdout",
     "output_type": "stream",
     "text": [
      "16\n",
      "23\n",
      "6\n",
      "14\n"
     ]
    }
   ],
   "source": [
    "for i in range(4):\n",
    "    print(len(subjects[i]))"
   ]
  },
  {
   "cell_type": "code",
   "execution_count": 5,
   "metadata": {},
   "outputs": [
    {
     "name": "stdout",
     "output_type": "stream",
     "text": [
      "1\n",
      "3\n",
      "5\n",
      "7\n",
      "9\n"
     ]
    }
   ],
   "source": [
    "for i in range(1,10,2):   #third number in range for skipping \n",
    "    print(i)"
   ]
  },
  {
   "cell_type": "code",
   "execution_count": 15,
   "metadata": {},
   "outputs": [
    {
     "name": "stdout",
     "output_type": "stream",
     "text": [
      " *\n",
      " * *\n",
      " * * *\n",
      " * * * *\n",
      " * * * * *\n",
      " * * * *\n",
      " * * *\n",
      " * *\n",
      " *\n"
     ]
    }
   ],
   "source": [
    "str1=''\n",
    "for i in range(0,9):\n",
    "    if i<5:\n",
    "        str1 += ' *'\n",
    "        print(str1)\n",
    "    elif i>4:\n",
    "        str1 = str1[:-2]\n",
    "        print(str1)"
   ]
  },
  {
   "cell_type": "code",
   "execution_count": 19,
   "metadata": {
    "scrolled": true
   },
   "outputs": [
    {
     "name": "stdout",
     "output_type": "stream",
     "text": [
      "H - 0\n",
      "e - 1\n",
      "l - 2\n",
      "l - 3\n",
      "o - 4\n",
      "  - 5\n",
      "f - 6\n",
      "r - 7\n",
      "o - 8\n",
      "m - 9\n",
      "  - 10\n",
      "A - 11\n",
      "h - 12\n",
      "r - 13\n",
      "a - 14\n",
      "a - 15\n",
      "r - 16\n"
     ]
    }
   ],
   "source": [
    "my_string = \"Hello from Ahraar\"\n",
    "\n",
    "for n,alphabet in enumerate(my_string):\n",
    "    print(alphabet,\"-\",n)"
   ]
  }
 ],
 "metadata": {
  "kernelspec": {
   "display_name": "Python 3",
   "language": "python",
   "name": "python3"
  },
  "language_info": {
   "codemirror_mode": {
    "name": "ipython",
    "version": 3
   },
   "file_extension": ".py",
   "mimetype": "text/x-python",
   "name": "python",
   "nbconvert_exporter": "python",
   "pygments_lexer": "ipython3",
   "version": "3.7.0"
  }
 },
 "nbformat": 4,
 "nbformat_minor": 2
}
